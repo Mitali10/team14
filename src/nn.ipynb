{
  "cells": [
    {
      "cell_type": "markdown",
      "source": [],
      "metadata": {
        "id": "gRmAOFIigq4w"
      }
    },
    {
      "cell_type": "markdown",
      "source": [],
      "metadata": {
        "id": "l5WfZ2yogq17"
      }
    },
    {
      "cell_type": "code",
      "execution_count": null,
      "metadata": {
        "colab": {
          "base_uri": "https://localhost:8080/"
        },
        "id": "iA_Ndb-ngvAN",
        "outputId": "0665b433-50c1-461e-d465-5bf868f79afa"
      },
      "outputs": [
        {
          "output_type": "stream",
          "name": "stdout",
          "text": [
            "Drive already mounted at /content/drive; to attempt to forcibly remount, call drive.mount(\"/content/drive\", force_remount=True).\n"
          ]
        }
      ],
      "source": [
        "from google.colab import drive\n",
        "drive.mount('/content/drive')"
      ]
    },
    {
      "cell_type": "code",
      "execution_count": null,
      "metadata": {
        "colab": {
          "base_uri": "https://localhost:8080/"
        },
        "id": "4Brj4cHrTK6V",
        "outputId": "861c9df3-9903-43a6-e09e-502cd7d7feb7"
      },
      "outputs": [
        {
          "output_type": "stream",
          "name": "stdout",
          "text": [
            "[Errno 2] No such file or directory: 'drive/My Drive/College/Fall 2022/ML 4641'\n",
            "/content/drive/My Drive/College/Fall 2022/ML 4641\n"
          ]
        }
      ],
      "source": [
        "# %cd 'drive/My Drive/College/Fall 2022/ML 4641'\n",
        "%cd 'drive/My Drive/College/Fall 2022/ML 4641'\n",
        "# %ls"
      ]
    },
    {
      "cell_type": "code",
      "execution_count": null,
      "metadata": {
        "id": "LEwLhlzSU16a"
      },
      "outputs": [],
      "source": [
        "from sklearn.neural_network import MLPClassifier\n",
        "import matplotlib.pyplot as plt\n",
        "import numpy as np\n",
        "from CreditCardData import CreditCardData\n",
        "from sklearn import mixture\n",
        "from sklearn.metrics import recall_score\n",
        "from sklearn import metrics\n",
        "from imblearn.over_sampling import SMOTE\n",
        "from sklearn.preprocessing import StandardScaler\n",
        "from sklearn.model_selection import GridSearchCV"
      ]
    },
    {
      "cell_type": "code",
      "execution_count": null,
      "metadata": {
        "id": "7hmsnS3ZU2AB"
      },
      "outputs": [],
      "source": [
        "ccd = CreditCardData(split=True)\n",
        "\n",
        "smote = SMOTE(random_state=42) # desired ratio minority/majority = 0.1\n",
        "X_smote, y_smote = smote.fit_resample(ccd.data_train, ccd.labels_train)\n",
        "# s = X_smote.shape[0]\n",
        "# s = int(s/3)\n",
        "# X_smote, y_smote = X_smote[:s], y_smote[:s]\n",
        "\n",
        "\n",
        "\n",
        "sc=StandardScaler()\n",
        "scaler = sc.fit(X_smote)\n",
        "trainX_scaled = scaler.transform(X_smote)\n",
        "testX_scaled = scaler.transform(ccd.data_test)"
      ]
    },
    {
      "cell_type": "code",
      "execution_count": null,
      "metadata": {
        "id": "wRiMl7TnanKp"
      },
      "outputs": [],
      "source": [
        "MLPC = MLPClassifier(hidden_layer_sizes=(50, 200, 200, 50), learning_rate='adaptive', max_iter=50, verbose=True, tol=.0001)\n",
        "\n",
        "param_grid = {\n",
        "    'hidden_layer_sizes':  [(50,200,50), (50, 200, 200, 50)],\n",
        "}"
      ]
    },
    {
      "cell_type": "code",
      "execution_count": null,
      "metadata": {
        "id": "g1BOr7nuatfR"
      },
      "outputs": [],
      "source": [
        "# grid = GridSearchCV(MLPC, param_grid, n_jobs=1, cv=3, verbose=3)\n",
        "# grid.fit(trainX_scaled, y_smote)\n",
        "# print(grid.best_params_) \n",
        "\n",
        "# y_pred = grid.predict(testX_scaled) "
      ]
    },
    {
      "cell_type": "code",
      "execution_count": null,
      "metadata": {
        "id": "kbOODwBZVdjM",
        "colab": {
          "base_uri": "https://localhost:8080/"
        },
        "outputId": "325abc1a-d2a8-439e-9419-db9c2ee2f84e"
      },
      "outputs": [
        {
          "output_type": "stream",
          "name": "stdout",
          "text": [
            "Iteration 1, loss = 0.02031467\n",
            "Iteration 2, loss = 0.00468800\n",
            "Iteration 3, loss = 0.00339706\n",
            "Iteration 4, loss = 0.00270996\n",
            "Iteration 5, loss = 0.00216764\n",
            "Iteration 6, loss = 0.00196679\n",
            "Iteration 7, loss = 0.00184150\n",
            "Iteration 8, loss = 0.00152645\n",
            "Iteration 9, loss = 0.00154388\n",
            "Iteration 10, loss = 0.00144088\n",
            "Iteration 11, loss = 0.00156322\n",
            "Iteration 12, loss = 0.00129383\n",
            "Iteration 13, loss = 0.00116433\n",
            "Iteration 14, loss = 0.00125687\n",
            "Iteration 15, loss = 0.00112630\n",
            "Iteration 16, loss = 0.00103857\n",
            "Iteration 17, loss = 0.00105385\n",
            "Iteration 18, loss = 0.00134036\n",
            "Iteration 19, loss = 0.00091409\n",
            "Iteration 20, loss = 0.00109447\n",
            "Iteration 21, loss = 0.00113483\n",
            "Iteration 22, loss = 0.00093220\n",
            "Iteration 23, loss = 0.00102752\n",
            "Iteration 24, loss = 0.00096214\n",
            "Iteration 25, loss = 0.00083949\n",
            "Iteration 26, loss = 0.00091521\n",
            "Iteration 27, loss = 0.00080588\n",
            "Iteration 28, loss = 0.00098239\n",
            "Iteration 29, loss = 0.00089785\n",
            "Iteration 30, loss = 0.00091357\n",
            "Iteration 31, loss = 0.00074649\n",
            "Iteration 32, loss = 0.00077779\n",
            "Iteration 33, loss = 0.00086118\n",
            "Iteration 34, loss = 0.00073413\n",
            "Iteration 35, loss = 0.00071902\n",
            "Iteration 36, loss = 0.00072511\n",
            "Iteration 37, loss = 0.00070766\n",
            "Iteration 38, loss = 0.00079707\n",
            "Iteration 39, loss = 0.00088878\n",
            "Iteration 40, loss = 0.00061296\n",
            "Iteration 41, loss = 0.00078481\n",
            "Iteration 42, loss = 0.00066611\n",
            "Iteration 43, loss = 0.00083363\n",
            "Iteration 44, loss = 0.00071590\n",
            "Iteration 45, loss = 0.00075182\n",
            "Iteration 46, loss = 0.00062817\n",
            "Iteration 47, loss = 0.00066238\n",
            "Iteration 48, loss = 0.00068760\n",
            "Iteration 49, loss = 0.00065233\n",
            "Iteration 50, loss = 0.00067132\n"
          ]
        },
        {
          "output_type": "stream",
          "name": "stderr",
          "text": [
            "/usr/local/lib/python3.8/dist-packages/sklearn/neural_network/_multilayer_perceptron.py:692: ConvergenceWarning: Stochastic Optimizer: Maximum iterations (50) reached and the optimization hasn't converged yet.\n",
            "  warnings.warn(\n"
          ]
        },
        {
          "output_type": "stream",
          "name": "stdout",
          "text": [
            "[0 0 0 ... 0 0 0]\n",
            "Accuracy: 0.9994908886626171\n"
          ]
        }
      ],
      "source": [
        "# fit model\n",
        "MLPC.fit(trainX_scaled, y_smote)\n",
        "y_pred = MLPC.predict(testX_scaled)\n",
        "print(y_pred)\n",
        "\n",
        "# assess model\n",
        "score = MLPC.score(testX_scaled, ccd.labels_test)\n",
        "print(\"Accuracy:\", score)"
      ]
    },
    {
      "cell_type": "code",
      "execution_count": null,
      "metadata": {
        "colab": {
          "base_uri": "https://localhost:8080/",
          "height": 917
        },
        "id": "sn4iXBvLVdqJ",
        "outputId": "61125cdf-0faa-4689-ec77-e7baa2014736"
      },
      "outputs": [
        {
          "output_type": "stream",
          "name": "stdout",
          "text": [
            "Accuracy: 0.99949\n",
            "              precision    recall  f1-score   support\n",
            "\n",
            "           0       1.00      1.00      1.00     56862\n",
            "           1       0.87      0.83      0.85       100\n",
            "\n",
            "    accuracy                           1.00     56962\n",
            "   macro avg       0.94      0.91      0.93     56962\n",
            "weighted avg       1.00      1.00      1.00     56962\n",
            "\n",
            "PRECIDIONS 0.8736842105263158\n",
            "AUCROC 0.914894481375963\n",
            "Confusion Matrix\n",
            " [[56850    12]\n",
            " [   17    83]]\n"
          ]
        },
        {
          "output_type": "display_data",
          "data": {
            "text/plain": [
              "<Figure size 648x648 with 2 Axes>"
            ],
            "image/png": "[encoded data removed]"
          },
          "metadata": {
            "needs_background": "light"
          }
        }
      ],
      "source": [
        "print('Accuracy: {:.5f}'.format(metrics.accuracy_score(ccd.labels_test, y_pred)))\n",
        "\n",
        "report = metrics.classification_report(ccd.labels_test, y_pred)\n",
        "print(report)\n",
        "\n",
        "precision = metrics.precision_score(ccd.labels_test, y_pred)\n",
        "print(\"PRECIDIONS\", precision)\n",
        "\n",
        "aucroc = metrics.roc_auc_score(ccd.labels_test, y_pred)\n",
        "print(\"AUCROC\", aucroc)\n",
        "\n",
        "\n",
        "# Obtenemos valores de recall\n",
        "recall_acc = recall_score(ccd.labels_test,y_pred)\n",
        "\n",
        "\n",
        "# calc confusion matix\n",
        "cm = metrics.confusion_matrix(ccd.labels_test, y_pred)\n",
        "print(\"Confusion Matrix\\n\", cm)\n",
        "\n",
        "# show confusion matrix\n",
        "plt.figure(figsize=(9,9))\n",
        "plt.imshow(cm, cmap='Blues')\n",
        "plt.title('Confusion matrix', size=15)\n",
        "plt.colorbar()\n",
        "\n",
        "plt.xticks([0, 1], [\"0\", \"1\"], rotation=45, size=2)\n",
        "plt.yticks([0, 1], [\"0\", \"1\"], size = 2)\n",
        "plt.tight_layout()\n",
        "plt.ylabel('Actual label', size=15)\n",
        "plt.xlabel('Predicted label', size = 15)\n",
        "width, height = cm.shape\n",
        "for x in range(width):\n",
        " for y in range(height):\n",
        "  plt.annotate(str(cm[x][y]), xy=(y, x), \n",
        "    horizontalalignment='center',\n",
        "    verticalalignment='center')\n",
        "\n",
        "plt.savefig(\"nn.png\")\n",
        "plt.show()"
      ]
    },
    {
      "cell_type": "code",
      "source": [],
      "metadata": {
        "id": "twWVIHScm8E5"
      },
      "execution_count": null,
      "outputs": []
    }
  ],
  "metadata": {
    "colab": {
      "provenance": [],
      "history_visible": true
    },
    "kernelspec": {
      "display_name": "Python 3",
      "name": "python3"
    },
    "language_info": {
      "name": "python"
    },
    "accelerator": "GPU",
    "gpuClass": "standard"
  },
  "nbformat": 4,
  "nbformat_minor": 0
}