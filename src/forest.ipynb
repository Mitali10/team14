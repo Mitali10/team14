{
  "nbformat": 4,
  "nbformat_minor": 0,
  "metadata": {
    "colab": {
      "provenance": []
    },
    "kernelspec": {
      "name": "python3",
      "display_name": "Python 3"
    },
    "language_info": {
      "name": "python"
    },
    "accelerator": "TPU",
    "gpuClass": "standard"
  },
  "cells": [
    {
      "cell_type": "code",
      "source": [
        "from google.colab import drive\n",
        "drive.mount('/content/drive')"
      ],
      "metadata": {
        "colab": {
          "base_uri": "https://localhost:8080/"
        },
        "id": "mUKMKTQIgpGD",
        "outputId": "52214d07-41ba-4133-94ec-63f5c0e4db39"
      },
      "execution_count": null,
      "outputs": [
        {
          "output_type": "stream",
          "name": "stdout",
          "text": [
            "Drive already mounted at /content/drive; to attempt to forcibly remount, call drive.mount(\"/content/drive\", force_remount=True).\n"
          ]
        }
      ]
    },
    {
      "cell_type": "code",
      "source": [
        "# %cd 'drive/My Drive/College/Fall 2022/ML 4641'\n",
        "%cd 'drive/My Drive/College/Fall 2022/ML 4641'\n",
        "# %ls"
      ],
      "metadata": {
        "colab": {
          "base_uri": "https://localhost:8080/"
        },
        "id": "ea6NNdnpgcuE",
        "outputId": "7c7d3d84-7817-42f9-874f-25747ba2fa33"
      },
      "execution_count": null,
      "outputs": [
        {
          "output_type": "stream",
          "name": "stdout",
          "text": [
            "/content/drive/My Drive/College/Fall 2022/ML 4641\n"
          ]
        }
      ]
    },
    {
      "cell_type": "code",
      "execution_count": null,
      "metadata": {
        "id": "uXLGbFXMf5sA"
      },
      "outputs": [],
      "source": [
        "import matplotlib.pyplot as plt\n",
        "import numpy as np\n",
        "from CreditCardData import CreditCardData\n",
        "from sklearn.ensemble import RandomForestClassifier\n",
        "from sklearn import mixture, metrics\n",
        "from imblearn.over_sampling import SMOTE\n",
        "\n",
        "from sklearn.metrics import roc_auc_score\n",
        "\n",
        "import time"
      ]
    },
    {
      "cell_type": "code",
      "source": [
        "ccd = CreditCardData(split=True)\n",
        "ccd.split_data()\n",
        "\n",
        "smote = SMOTE(random_state=42) # desired ratio minority/majority = 0.1\n",
        "X_smote, y_smote = smote.fit_resample(ccd.data_train, ccd.labels_train)"
      ],
      "metadata": {
        "id": "PeIgbaXZgk9F"
      },
      "execution_count": null,
      "outputs": []
    },
    {
      "cell_type": "code",
      "source": [
        "info = {\n",
        "  \"Recall\": [],\n",
        "  \"Balanced Accuracy\": [],\n",
        "  \"Precision\": [],\n",
        "  \"AUC-ROC\": [],\n",
        "  \"CM\": [],\n",
        "  \"Accuracy\": [],\n",
        "}\n",
        "\n",
        "maxdepths = range(10, 20, 2)\n",
        "for i in maxdepths:\n",
        "  print (f\"\\n\\n------- i = {i} --------------\")\n",
        "  start = time.time()\n",
        "  forest = RandomForestClassifier(max_depth=i, random_state=0, verbose=True)\n",
        "  forest.fit(X_smote, y_smote)\n",
        "  labels_pred_test = forest.predict(ccd.data_test)\n",
        "  score = forest.score(ccd.data_test, ccd.labels_test)\n",
        "  print(\"SCORE FOR FOREST\", score)\n",
        "\n",
        "  info[\"Accuracy\"].append(score)\n",
        "\n",
        "  confusion_matrix = metrics.confusion_matrix(ccd.labels_test, labels_pred_test, normalize = 'true')\n",
        "  print(confusion_matrix); \n",
        "\n",
        "  recall = metrics.recall_score(ccd.labels_test, labels_pred_test, average='macro')\n",
        "  print(\"Recall:\", recall)\n",
        "  info[\"Recall\"].append(recall)\n",
        "\n",
        "\n",
        "  balanced_accuracy = metrics.balanced_accuracy_score(ccd.labels_test, labels_pred_test)\n",
        "  print(\"balanced_accuracy:\", balanced_accuracy)\n",
        "  info[\"Balanced Accuracy\"].append(balanced_accuracy)\n",
        "\n",
        "\n",
        "  precision_score = metrics.precision_score(ccd.labels_test, labels_pred_test)\n",
        "  print(\"precision_score:\", precision_score)\n",
        "  info[\"Precision\"].append(precision_score)\n",
        "\n",
        "\n",
        "  report = metrics.classification_report(ccd.labels_test, labels_pred_test)\n",
        "  print(report)\n",
        "\n",
        "\n",
        "  ############################## POST-PROCESSING: CONFUSION MATRIX ##############################\n",
        "\n",
        "  aucroc = roc_auc_score(ccd.labels_test, labels_pred_test)\n",
        "  print(\"AUCROC:\", aucroc)\n",
        "\n",
        "  info[\"AUC-ROC\"].append(aucroc)\n",
        "\n",
        "\n",
        "\n",
        "  # calc confusion matix\n",
        "  cm = metrics.confusion_matrix(ccd.labels_test, labels_pred_test)\n",
        "  print(\"Confusion Matrix\\n\", cm)\n",
        "  info[\"CM\"].append(cm)\n",
        "  end = time.time()\n",
        "  print(\"TIME\", (end - start)/60)\n",
        "\n",
        "# # show confusion matrix\n",
        "# plt.figure(figsize=(9,9))\n",
        "# plt.imshow(cm, cmap='Blues')\n",
        "# plt.title('Confusion matrix', size=15)\n",
        "# plt.colorbar()\n",
        "\n",
        "# plt.xticks([0, 1], [\"0\", \"1\"], rotation=45, size=2)\n",
        "# plt.yticks([0, 1], [\"0\", \"1\"], size = 2)\n",
        "\n",
        "# plt.tight_layout()\n",
        "# plt.ylabel('Actual label', size=15)\n",
        "# plt.xlabel('Predicted label', size = 15)\n",
        "# width, height = cm.shape\n",
        "# for x in range(width):\n",
        "#  for y in range(height):\n",
        "#   plt.annotate(str(cm[x][y]), xy=(y, x), \n",
        "#     horizontalalignment='center',\n",
        "#     verticalalignment='center')\n",
        "\n",
        "# plt.show()"
      ],
      "metadata": {
        "colab": {
          "base_uri": "https://localhost:8080/"
        },
        "id": "0YtF6PY0f6Sx",
        "outputId": "bef6d4d4-29fe-4acc-ec86-cece3d405762"
      },
      "execution_count": null,
      "outputs": [
        {
          "output_type": "stream",
          "name": "stdout",
          "text": [
            "\n",
            "\n",
            "------- i = 10 --------------\n"
          ]
        },
        {
          "output_type": "stream",
          "name": "stderr",
          "text": [
            "[Parallel(n_jobs=1)]: Using backend SequentialBackend with 1 concurrent workers.\n",
            "[Parallel(n_jobs=1)]: Done 100 out of 100 | elapsed:  5.8min finished\n",
            "[Parallel(n_jobs=1)]: Using backend SequentialBackend with 1 concurrent workers.\n",
            "[Parallel(n_jobs=1)]: Done 100 out of 100 | elapsed:    0.6s finished\n",
            "[Parallel(n_jobs=1)]: Using backend SequentialBackend with 1 concurrent workers.\n",
            "[Parallel(n_jobs=1)]: Done 100 out of 100 | elapsed:    0.6s finished\n"
          ]
        },
        {
          "output_type": "stream",
          "name": "stdout",
          "text": [
            "SCORE FOR FOREST 0.9988588883817282\n",
            "[[9.99050416e-01 9.49584117e-04]\n",
            " [1.15789474e-01 8.84210526e-01]]\n",
            "Recall: 0.9416304710992316\n",
            "balanced_accuracy: 0.9416304710992316\n",
            "precision_score: 0.6086956521739131\n",
            "              precision    recall  f1-score   support\n",
            "\n",
            "           0       1.00      1.00      1.00     56867\n",
            "           1       0.61      0.88      0.72        95\n",
            "\n",
            "    accuracy                           1.00     56962\n",
            "   macro avg       0.80      0.94      0.86     56962\n",
            "weighted avg       1.00      1.00      1.00     56962\n",
            "\n",
            "AUCROC: 0.9416304710992316\n",
            "Confusion Matrix\n",
            " [[56813    54]\n",
            " [   11    84]]\n",
            "TIME 5.7844152013460794\n",
            "\n",
            "\n",
            "------- i = 12 --------------\n"
          ]
        },
        {
          "output_type": "stream",
          "name": "stderr",
          "text": [
            "[Parallel(n_jobs=1)]: Using backend SequentialBackend with 1 concurrent workers.\n",
            "[Parallel(n_jobs=1)]: Done 100 out of 100 | elapsed:  6.6min finished\n",
            "[Parallel(n_jobs=1)]: Using backend SequentialBackend with 1 concurrent workers.\n",
            "[Parallel(n_jobs=1)]: Done 100 out of 100 | elapsed:    0.7s finished\n",
            "[Parallel(n_jobs=1)]: Using backend SequentialBackend with 1 concurrent workers.\n",
            "[Parallel(n_jobs=1)]: Done 100 out of 100 | elapsed:    0.7s finished\n"
          ]
        },
        {
          "output_type": "stream",
          "name": "stdout",
          "text": [
            "SCORE FOR FOREST 0.9992451107756047\n",
            "[[9.99437283e-01 5.62716514e-04]\n",
            " [1.15789474e-01 8.84210526e-01]]\n",
            "Recall: 0.9418239049009092\n",
            "balanced_accuracy: 0.9418239049009092\n",
            "precision_score: 0.7241379310344828\n",
            "              precision    recall  f1-score   support\n",
            "\n",
            "           0       1.00      1.00      1.00     56867\n",
            "           1       0.72      0.88      0.80        95\n",
            "\n",
            "    accuracy                           1.00     56962\n",
            "   macro avg       0.86      0.94      0.90     56962\n",
            "weighted avg       1.00      1.00      1.00     56962\n",
            "\n",
            "AUCROC: 0.9418239049009092\n",
            "Confusion Matrix\n",
            " [[56835    32]\n",
            " [   11    84]]\n",
            "TIME 6.5951479037602745\n",
            "\n",
            "\n",
            "------- i = 14 --------------\n"
          ]
        },
        {
          "output_type": "stream",
          "name": "stderr",
          "text": [
            "[Parallel(n_jobs=1)]: Using backend SequentialBackend with 1 concurrent workers.\n",
            "[Parallel(n_jobs=1)]: Done 100 out of 100 | elapsed:  7.1min finished\n",
            "[Parallel(n_jobs=1)]: Using backend SequentialBackend with 1 concurrent workers.\n",
            "[Parallel(n_jobs=1)]: Done 100 out of 100 | elapsed:    0.7s finished\n",
            "[Parallel(n_jobs=1)]: Using backend SequentialBackend with 1 concurrent workers.\n",
            "[Parallel(n_jobs=1)]: Done 100 out of 100 | elapsed:    0.7s finished\n"
          ]
        },
        {
          "output_type": "stream",
          "name": "stdout",
          "text": [
            "SCORE FOR FOREST 0.9993328885923949\n",
            "[[9.99560378e-01 4.39622277e-04]\n",
            " [1.36842105e-01 8.63157895e-01]]\n",
            "Recall: 0.931359136230151\n",
            "balanced_accuracy: 0.931359136230151\n",
            "precision_score: 0.7663551401869159\n",
            "              precision    recall  f1-score   support\n",
            "\n",
            "           0       1.00      1.00      1.00     56867\n",
            "           1       0.77      0.86      0.81        95\n",
            "\n",
            "    accuracy                           1.00     56962\n",
            "   macro avg       0.88      0.93      0.91     56962\n",
            "weighted avg       1.00      1.00      1.00     56962\n",
            "\n",
            "AUCROC: 0.9313591362301511\n",
            "Confusion Matrix\n",
            " [[56842    25]\n",
            " [   13    82]]\n",
            "TIME 7.112978728612264\n",
            "\n",
            "\n",
            "------- i = 16 --------------\n"
          ]
        },
        {
          "output_type": "stream",
          "name": "stderr",
          "text": [
            "[Parallel(n_jobs=1)]: Using backend SequentialBackend with 1 concurrent workers.\n",
            "[Parallel(n_jobs=1)]: Done 100 out of 100 | elapsed:  7.7min finished\n",
            "[Parallel(n_jobs=1)]: Using backend SequentialBackend with 1 concurrent workers.\n",
            "[Parallel(n_jobs=1)]: Done 100 out of 100 | elapsed:    0.7s finished\n",
            "[Parallel(n_jobs=1)]: Using backend SequentialBackend with 1 concurrent workers.\n",
            "[Parallel(n_jobs=1)]: Done 100 out of 100 | elapsed:    0.7s finished\n"
          ]
        },
        {
          "output_type": "stream",
          "name": "stdout",
          "text": [
            "SCORE FOR FOREST 0.999403110845827\n",
            "[[9.99630717e-01 3.69282712e-04]\n",
            " [1.36842105e-01 8.63157895e-01]]\n",
            "Recall: 0.9313943060122742\n",
            "balanced_accuracy: 0.9313943060122742\n",
            "precision_score: 0.7961165048543689\n",
            "              precision    recall  f1-score   support\n",
            "\n",
            "           0       1.00      1.00      1.00     56867\n",
            "           1       0.80      0.86      0.83        95\n",
            "\n",
            "    accuracy                           1.00     56962\n",
            "   macro avg       0.90      0.93      0.91     56962\n",
            "weighted avg       1.00      1.00      1.00     56962\n",
            "\n",
            "AUCROC: 0.9313943060122741\n",
            "Confusion Matrix\n",
            " [[56846    21]\n",
            " [   13    82]]\n",
            "TIME 7.710731442769369\n",
            "\n",
            "\n",
            "------- i = 18 --------------\n"
          ]
        },
        {
          "output_type": "stream",
          "name": "stderr",
          "text": [
            "[Parallel(n_jobs=1)]: Using backend SequentialBackend with 1 concurrent workers.\n",
            "[Parallel(n_jobs=1)]: Done 100 out of 100 | elapsed:  8.1min finished\n",
            "[Parallel(n_jobs=1)]: Using backend SequentialBackend with 1 concurrent workers.\n",
            "[Parallel(n_jobs=1)]: Done 100 out of 100 | elapsed:    0.7s finished\n",
            "[Parallel(n_jobs=1)]: Using backend SequentialBackend with 1 concurrent workers.\n"
          ]
        },
        {
          "output_type": "stream",
          "name": "stdout",
          "text": [
            "SCORE FOR FOREST 0.9994733330992591\n",
            "[[9.99718642e-01 2.81358257e-04]\n",
            " [1.47368421e-01 8.52631579e-01]]\n",
            "Recall: 0.9261751103451914\n",
            "balanced_accuracy: 0.9261751103451914\n",
            "precision_score: 0.8350515463917526\n",
            "              precision    recall  f1-score   support\n",
            "\n",
            "           0       1.00      1.00      1.00     56867\n",
            "           1       0.84      0.85      0.84        95\n",
            "\n",
            "    accuracy                           1.00     56962\n",
            "   macro avg       0.92      0.93      0.92     56962\n",
            "weighted avg       1.00      1.00      1.00     56962\n",
            "\n",
            "AUCROC: 0.9261751103451914\n",
            "Confusion Matrix\n",
            " [[56851    16]\n",
            " [   14    81]]\n",
            "TIME 8.142105646928151\n"
          ]
        },
        {
          "output_type": "stream",
          "name": "stderr",
          "text": [
            "[Parallel(n_jobs=1)]: Done 100 out of 100 | elapsed:    0.7s finished\n"
          ]
        }
      ]
    },
    {
      "cell_type": "code",
      "source": [
        "print(info)\n",
        "\n",
        "# plot lines\n",
        "plt.plot(maxdepths, info[\"Recall\"], label = \"Recall\")\n",
        "# plt.plot(maxdepths, info[\"AUC-ROC\"], label = \"AUC-ROC\")\n",
        "plt.plot(maxdepths, info[\"Precision\"], label = \"Precision\")\n",
        "plt.plot(maxdepths, info[\"Accuracy\"], label = \"Accuracy\")\n",
        "plt.title('Performance vs Max Tree Depth')\n",
        "plt.xlabel('Max Tree Depth')\n",
        "plt.ylabel('Performance')\n",
        "plt.legend()\n",
        "plt.show()\n"
      ],
      "metadata": {
        "colab": {
          "base_uri": "https://localhost:8080/"
        },
        "id": "iuQnUFcygCZQ",
        "outputId": "2218c31c-6e0d-4fbd-d8ab-b2974d7bf717"
      },
      "execution_count": null,
      "outputs": [
        {
          "output_type": "stream",
          "name": "stdout",
          "text": [
            "{'Recall': [0.9416304710992316, 0.9418239049009092, 0.931359136230151, 0.9313943060122742, 0.9261751103451914], 'Balanced Accuracy': [0.9416304710992316, 0.9418239049009092, 0.931359136230151, 0.9313943060122742, 0.9261751103451914], 'Precision': [0.6086956521739131, 0.7241379310344828, 0.7663551401869159, 0.7961165048543689, 0.8350515463917526], 'AUC-ROC': [0.9416304710992316, 0.9418239049009092, 0.9313591362301511, 0.9313943060122741, 0.9261751103451914], 'CM': [array([[56813,    54],\n",
            "       [   11,    84]]), array([[56835,    32],\n",
            "       [   11,    84]]), array([[56842,    25],\n",
            "       [   13,    82]]), array([[56846,    21],\n",
            "       [   13,    82]]), array([[56851,    16],\n",
            "       [   14,    81]])], 'Accuracy': [0.9988588883817282, 0.9992451107756047, 0.9993328885923949, 0.999403110845827, 0.9994733330992591]}\n"
          ]
        },
        {
          "output_type": "display_data",
          "data": {
            "text/plain": [
              "<Figure size 432x288 with 1 Axes>"
            ],
            "image/png": "[encoded data removed]"
          },
          "metadata": {
            "needs_background": "light"
          }
        }
      ]
    }
  ]
}